{
  "nbformat": 4,
  "nbformat_minor": 0,
  "metadata": {
    "colab": {
      "provenance": [],
      "authorship_tag": "ABX9TyOeNaWr0urCnMOffgyx9Kr1",
      "include_colab_link": true
    },
    "kernelspec": {
      "name": "python3",
      "display_name": "Python 3"
    },
    "language_info": {
      "name": "python"
    }
  },
  "cells": [
    {
      "cell_type": "markdown",
      "metadata": {
        "id": "view-in-github",
        "colab_type": "text"
      },
      "source": [
        "<a href=\"https://colab.research.google.com/github/PurinYun/AIffel_Online_Main.Quest/blob/main/AIffel_MainQuest.ipynb\" target=\"_parent\"><img src=\"https://colab.research.google.com/assets/colab-badge.svg\" alt=\"Open In Colab\"/></a>"
      ]
    },
    {
      "cell_type": "code",
      "execution_count": null,
      "metadata": {
        "id": "VOIOUiZ1Oo2z"
      },
      "outputs": [],
      "source": [
        "import random\n",
        "\n",
        "class Account:\n",
        "  def __init__(self, owner, asset):\n",
        "    self.owner = owner                               # 예금주\n",
        "    self.asset = asset                               # 초기 잔액\n",
        "    self.bank = \"SC은행\"                             # 은행 이름\n",
        "    self.account_number = self.generate_account_number()\n",
        "    self.deposit_count = 0                           # 입금 횟수 저장\n",
        "    Account.num_account += 1\n",
        "\n",
        "  def generate_account_number(self):                 # 랜덤 계좌번호 생성\n",
        "    first_num = str(random.randit(100, 999))\n",
        "    second_num = str(random.randit(10, 99))\n",
        "    third_num = str(random.randit(100000, 999999))\n",
        "    return f\"(first_num)-(second_num)-(third_num)\"\n",
        "\n",
        "  def deposit(self, amount):\n",
        "        if amount > 0:\n",
        "            self.balance += amount\n",
        "            self.deposit_count += 1\n",
        "            if self.deposit_count == 5:               # 5회 입금 시 이자 지급\n",
        "                interest = self.balance * 0.01\n",
        "                self.balance += interest\n",
        "\n",
        "  def withdraw(self, amount):\n",
        "        if amount > 0 and amount <= self.balance:\n",
        "            self.balance -= amount\n",
        "\n",
        "  def display_info(self):\n",
        "        print(f\"은행: {self.bank}\")\n",
        "        print(f\"예금주: {self.owner}\")\n",
        "        print(f\"계좌번호: {self.account_number}\")\n",
        "        print(f\"잔고: {self.balance:,}원\")\n",
        "\n",
        "\n",
        "accounts = []                                       # Account 인스턴스 생성\n",
        "accounts.append(Account(\"예금주1\", 300000))\n",
        "accounts.append(Account(\"예금주2\", 1500000))\n",
        "accounts.append(Account(\"예금주3\", 700000))\n",
        "\n",
        "\n",
        "\n",
        "\n",
        "\n"
      ]
    },
    {
      "cell_type": "code",
      "source": [],
      "metadata": {
        "id": "LSV3FgIM_-J2"
      },
      "execution_count": null,
      "outputs": []
    }
  ]
}